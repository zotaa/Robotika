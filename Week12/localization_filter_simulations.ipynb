
{
 "cells": [
  {
   "cell_type": "markdown",
   "metadata": {},
   "source": [
    "# Localization and Filtering Theory Simulation",
    "This notebook demonstrates the implementation of various localization and filtering techniques:"
   ]
  },
  {
   "cell_type": "markdown",
   "metadata": {},
   "source": [
    "1. **Kalman Filter** for position estimation.",
    "2. **Particle Filter** for position estimation.",
    "3. **Localization using IMU and Lidar sensors**.",
    "4. **Extended Kalman Filter (EKF)** for navigation.",
    "5. **Particle Filter** for navigation."
   ]
  },
  {
   "cell_type": "code",
   "execution_count": null,
   "metadata": {},
   "outputs": [],
   "source": [
    "import numpy as np",
    "import matplotlib.pyplot as plt",
    "np.random.seed(42)"
   ]
  },
  {
   "cell_type": "markdown",
   "metadata": {},
   "source": [
    "## 1. Kalman Filter for Robot Position Estimation"
   ]
  },
  {
   "cell_type": "code",
   "execution_count": null,
   "metadata": {},
   "outputs": [],
   "source": [
    "class KalmanFilter:
",
    "    def __init__(self, A, B, H, Q, R, x0, P0):
",
    "        self.A = A  # State transition model
",
    "        self.B = B  # Control input model
",
    "        self.H = H  # Observation model
",
    "        self.Q = Q  # Process noise covariance
",
    "        self.R = R  # Observation noise covariance
",
    "        self.x = x0 # Initial state estimate
",
    "        self.P = P0 # Initial covariance estimate
",
    "
",
    "    def predict(self, u):
",
    "        self.x = np.dot(self.A, self.x) + np.dot(self.B, u)
",
    "        self.P = np.dot(np.dot(self.A, self.P), self.A.T) + self.Q
",
    "        return self.x
",
    "
",
    "    def update(self, z):
",
    "        K = np.dot(np.dot(self.P, self.H.T),
",
    "                   np.linalg.inv(np.dot(np.dot(self.H, self.P), self.H.T) + self.R))
",
    "        self.x = self.x + np.dot(K, (z - np.dot(self.H, self.x)))
",
    "        self.P = self.P - np.dot(np.dot(K, self.H), self.P)
",
    "        return self.x
",
    "
",
    "# Simulation setup
",
    "n = 50  # Number of time steps
",
    "dt = 1.0  # Time step
",
    "A = np.array([[1, dt], [0, 1]])
",
    "B = np.array([[0.5 * dt ** 2], [dt]])
",
    "H = np.array([[1, 0]])
",
    "Q = np.array([[1e-4, 0], [0, 1e-4]])
",
    "R = np.array([[0.5]])
",
    "x0 = np.array([0, 0])
",
    "P0 = np.eye(2)
",
    "
",
    "# True positions and measurements
",
    "true_positions = []
",
    "measurements = []
",
    "velocity = 1.0  # Constant velocity
",
    "for i in range(n):
",
    "    true_positions.append(i * dt * velocity)
",
    "    measurements.append(i * dt * velocity + np.random.normal(0, np.sqrt(R[0, 0])))
",
    "
",
    "# Apply Kalman filter
",
    "kf = KalmanFilter(A, B, H, Q, R, x0, P0)
",
    "estimates = []
",
    "for z in measurements:
",
    "    kf.predict(np.array([0]))
",
    "    estimates.append(kf.update(np.array([z])))
",
    "
",
    "# Plot results
",
    "plt.figure(figsize=(10, 6))
",
    "plt.plot(true_positions, label='True Position')
",
    "plt.plot(measurements, label='Measurements', linestyle='dotted')
",
    "plt.plot([x[0] for x in estimates], label='Kalman Filter Estimate')
",
    "plt.legend()
",
    "plt.xlabel('Time step')
",
    "plt.ylabel('Position')
",
    "plt.title('Kalman Filter for Position Estimation')
",
    "plt.show()"
   ]
  },
  {
   "cell_type": "markdown",
   "metadata": {},
   "source": [
    "## 2. Particle Filter for Robot Position Estimation"
   ]
  },
  {
   "cell_type": "code",
   "execution_count": null,
   "metadata": {},
   "outputs": [],
   "source": [
    "# Particle Filter
",
    "class ParticleFilter:
",
    "    def __init__(self, N, x_range, process_std, measurement_std):
",
    "        self.N = N  # Number of particles
",
    "        self.particles = np.random.uniform(x_range[0], x_range[1], N)
",
    "        self.weights = np.ones(N) / N
",
    "        self.process_std = process_std
",
    "        self.measurement_std = measurement_std
",
    "
",
    "    def predict(self, velocity):
",
    "        self.particles += velocity + np.random.normal(0, self.process_std, self.N)
",
    "
",
    "    def update(self, measurement):
",
    "        self.weights *= (1.0 / np.sqrt(2 * np.pi * self.measurement_std**2)) * \
",
    "                       np.exp(-((self.particles - measurement) ** 2) / (2 * self.measurement_std ** 2))
",
    "        self.weights += 1e-300  # Avoid division by zero
",
    "        self.weights /= np.sum(self.weights)
",
    "
",
    "    def resample(self):
",
    "        indices = np.random.choice(range(self.N), self.N, p=self.weights)
",
    "        self.particles = self.particles[indices]
",
    "        self.weights = np.ones(self.N) / self.N
",
    "
",
    "    def estimate(self):
",
    "        return np.mean(self.particles), np.std(self.particles)
",
    "
",
    "# Simulation setup
",
    "N = 1000  # Number of particles
",
    "pf = ParticleFilter(N, x_range=(-10, 10), process_std=1, measurement_std=1)
",
    "
",
    "particle_estimates = []
",
    "for z in measurements:
",
    "    pf.predict(velocity)
",
    "    pf.update(z)
",
    "    pf.resample()
",
    "    particle_estimates.append(pf.estimate()[0])
",
    "
",
    "# Plot results
",
    "plt.figure(figsize=(10, 6))
",
    "plt.plot(true_positions, label='True Position')
",
    "plt.plot(measurements, label='Measurements', linestyle='dotted')
",
    "plt.plot(particle_estimates, label='Particle Filter Estimate')
",
    "plt.legend()
",
    "plt.xlabel('Time step')
",
    "plt.ylabel('Position')
",
    "plt.title('Particle Filter for Position Estimation')
",
    "plt.show()"
   ]
  }
 ],
 "metadata": {
  "kernelspec": {
   "display_name": "Python 3",
   "language": "python",
   "name": "python3"
  },
  "language_info": {
   "codemirror_mode": {
    "name": "ipython",
    "version": 3
   },
   "file_extension": ".py",
   "mimetype": "text/x-python",
   "name": "python",
   "nbconvert_exporter": "python",
   "pygments_lexer": "ipython3",
   "version": "3.8.8"
  }
 },
 "nbformat": 4,
 "nbformat_minor": 5
}
