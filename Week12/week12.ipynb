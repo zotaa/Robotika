import numpy as np
import matplotlib.pyplot as plt

# Kalman Filter for Robot Position Estimation
class KalmanFilter:
    def __init__(self, x0, P0, F, H, R, Q):
        self.x = x0
        self.P = P0
        self.F = F
        self.H = H
        self.R = R
        self.Q = Q

    def predict(self):
        self.x = self.F @ self.x
        self.P = self.F @ self.P @ self.F.T + self.Q

    def update(self, z):
        y = z - self.H @ self.x
        S = self.H @ self.P @ self.H.T + self.R
        K = self.P @ self.H.T @ np.linalg.inv(S)
        self.x += K @ y
        self.P = (np.eye(len(self.P)) - K @ self.H) @ self.P

# Particle Filter for Robot Position Estimation
def particle_filter(particles, weights, z, sensor_model, motion_model):
    N = len(particles)
    particles = motion_model(particles)
    weights *= sensor_model(particles, z)
    weights += 1.e-300
    weights /= sum(weights)

    indices = np.random.choice(range(N), size=N, p=weights)
    particles = particles[indices]
    weights.fill(1.0 / N)
    return particles, weights

# Localization with IMU and Lidar sensors
class Localization:
    def __init__(self, imu_model, lidar_model):
        self.imu_model = imu_model
        self.lidar_model = lidar_model

    def integrate_sensors(self, imu_data, lidar_data):
        imu_est = self.imu_model(imu_data)
        lidar_est = self.lidar_model(lidar_data)
        return 0.5 * imu_est + 0.5 * lidar_est

# Extended Kalman Filter for Navigation
class ExtendedKalmanFilter:
    def __init__(self, x0, P0, F, H, R, Q):
        self.x = x0
        self.P = P0
        self.F = F
        self.H = H
        self.R = R
        self.Q = Q

    def predict(self, f, F_jacobian):
        self.x = f(self.x)
        self.P = F_jacobian(self.x) @ self.P @ F_jacobian(self.x).T + self.Q

    def update(self, z, h, H_jacobian):
        y = z - h(self.x)
        S = H_jacobian(self.x) @ self.P @ H_jacobian(self.x).T + self.R
        K = self.P @ H_jacobian(self.x).T @ np.linalg.inv(S)
        self.x += K @ y
        self.P = (np.eye(len(self.P)) - K @ H_jacobian(self.x)) @ self.P

# Simulation for Particle Filter Navigation
def simulate_particle_navigation(particles, weights, path, sensor_model, motion_model):
    estimated_path = []
    for t in range(len(path)):
        z = sensor_model(particles, path[t])
        particles, weights = particle_filter(particles, weights, z, sensor_model, motion_model)
        estimated_path.append(np.mean(particles, axis=0))
    return estimated_path

# Example usage (simplified):
# Initialize parameters for Kalman Filter
x0 = np.array([0, 0])
P0 = np.eye(2)
F = np.array([[1, 1], [0, 1]])
H = np.array([[1, 0]])
R = np.array([[1]])
Q = np.eye(2) * 0.1
kf = KalmanFilter(x0, P0, F, H, R, Q)

# Generate a simple trajectory and noisy measurements
true_position = [np.array([t, 1]) for t in range(10)]
measurements = [pos[0] + np.random.normal(0, 1) for pos in true_position]

# Kalman Filter estimation
estimated_positions = []
for z in measurements:
    kf.predict()
    kf.update(np.array([z]))
    estimated_positions.append(kf.x.copy())

# Plotting the Kalman Filter results
plt.plot([pos[0] for pos in true_position], label='True Position')
plt.plot(measurements, 'o', label='Measurements')
plt.plot([pos[0] for pos in estimated_positions], label='Kalman Estimate')
plt.legend()
plt.show()
